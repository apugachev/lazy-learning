{
 "cells": [
  {
   "cell_type": "markdown",
   "metadata": {},
   "source": [
    "# data prepare"
   ]
  },
  {
   "cell_type": "code",
   "execution_count": 762,
   "metadata": {},
   "outputs": [],
   "source": [
    "import pandas as pd\n",
    "import numpy as np\n",
    "from sklearn.metrics import roc_auc_score, f1_score\n",
    "from progressbar import progressbar as pb\n",
    "from matplotlib import pyplot as plt\n",
    "from sklearn.linear_model import LogisticRegression\n",
    "from sklearn.decomposition import PCA\n",
    "np.random.seed(4)"
   ]
  },
  {
   "cell_type": "code",
   "execution_count": 828,
   "metadata": {},
   "outputs": [
    {
     "name": "stdout",
     "output_type": "stream",
     "text": [
      "2000\n"
     ]
    },
    {
     "data": {
      "text/html": [
       "<div>\n",
       "<style scoped>\n",
       "    .dataframe tbody tr th:only-of-type {\n",
       "        vertical-align: middle;\n",
       "    }\n",
       "\n",
       "    .dataframe tbody tr th {\n",
       "        vertical-align: top;\n",
       "    }\n",
       "\n",
       "    .dataframe thead th {\n",
       "        text-align: right;\n",
       "    }\n",
       "</style>\n",
       "<table border=\"1\" class=\"dataframe\">\n",
       "  <thead>\n",
       "    <tr style=\"text-align: right;\">\n",
       "      <th></th>\n",
       "      <th>battery_power</th>\n",
       "      <th>blue</th>\n",
       "      <th>clock_speed</th>\n",
       "      <th>dual_sim</th>\n",
       "      <th>fc</th>\n",
       "      <th>four_g</th>\n",
       "      <th>int_memory</th>\n",
       "      <th>m_dep</th>\n",
       "      <th>mobile_wt</th>\n",
       "      <th>n_cores</th>\n",
       "      <th>...</th>\n",
       "      <th>px_height</th>\n",
       "      <th>px_width</th>\n",
       "      <th>ram</th>\n",
       "      <th>sc_h</th>\n",
       "      <th>sc_w</th>\n",
       "      <th>talk_time</th>\n",
       "      <th>three_g</th>\n",
       "      <th>touch_screen</th>\n",
       "      <th>wifi</th>\n",
       "      <th>price_range</th>\n",
       "    </tr>\n",
       "  </thead>\n",
       "  <tbody>\n",
       "    <tr>\n",
       "      <th>0</th>\n",
       "      <td>842</td>\n",
       "      <td>0</td>\n",
       "      <td>2.2</td>\n",
       "      <td>0</td>\n",
       "      <td>1</td>\n",
       "      <td>0</td>\n",
       "      <td>7</td>\n",
       "      <td>0.6</td>\n",
       "      <td>188</td>\n",
       "      <td>2</td>\n",
       "      <td>...</td>\n",
       "      <td>20</td>\n",
       "      <td>756</td>\n",
       "      <td>2549</td>\n",
       "      <td>9</td>\n",
       "      <td>7</td>\n",
       "      <td>19</td>\n",
       "      <td>0</td>\n",
       "      <td>0</td>\n",
       "      <td>1</td>\n",
       "      <td>1</td>\n",
       "    </tr>\n",
       "    <tr>\n",
       "      <th>1</th>\n",
       "      <td>1021</td>\n",
       "      <td>1</td>\n",
       "      <td>0.5</td>\n",
       "      <td>1</td>\n",
       "      <td>0</td>\n",
       "      <td>1</td>\n",
       "      <td>53</td>\n",
       "      <td>0.7</td>\n",
       "      <td>136</td>\n",
       "      <td>3</td>\n",
       "      <td>...</td>\n",
       "      <td>905</td>\n",
       "      <td>1988</td>\n",
       "      <td>2631</td>\n",
       "      <td>17</td>\n",
       "      <td>3</td>\n",
       "      <td>7</td>\n",
       "      <td>1</td>\n",
       "      <td>1</td>\n",
       "      <td>0</td>\n",
       "      <td>2</td>\n",
       "    </tr>\n",
       "    <tr>\n",
       "      <th>2</th>\n",
       "      <td>563</td>\n",
       "      <td>1</td>\n",
       "      <td>0.5</td>\n",
       "      <td>1</td>\n",
       "      <td>2</td>\n",
       "      <td>1</td>\n",
       "      <td>41</td>\n",
       "      <td>0.9</td>\n",
       "      <td>145</td>\n",
       "      <td>5</td>\n",
       "      <td>...</td>\n",
       "      <td>1263</td>\n",
       "      <td>1716</td>\n",
       "      <td>2603</td>\n",
       "      <td>11</td>\n",
       "      <td>2</td>\n",
       "      <td>9</td>\n",
       "      <td>1</td>\n",
       "      <td>1</td>\n",
       "      <td>0</td>\n",
       "      <td>2</td>\n",
       "    </tr>\n",
       "    <tr>\n",
       "      <th>3</th>\n",
       "      <td>615</td>\n",
       "      <td>1</td>\n",
       "      <td>2.5</td>\n",
       "      <td>0</td>\n",
       "      <td>0</td>\n",
       "      <td>0</td>\n",
       "      <td>10</td>\n",
       "      <td>0.8</td>\n",
       "      <td>131</td>\n",
       "      <td>6</td>\n",
       "      <td>...</td>\n",
       "      <td>1216</td>\n",
       "      <td>1786</td>\n",
       "      <td>2769</td>\n",
       "      <td>16</td>\n",
       "      <td>8</td>\n",
       "      <td>11</td>\n",
       "      <td>1</td>\n",
       "      <td>0</td>\n",
       "      <td>0</td>\n",
       "      <td>2</td>\n",
       "    </tr>\n",
       "    <tr>\n",
       "      <th>4</th>\n",
       "      <td>1821</td>\n",
       "      <td>1</td>\n",
       "      <td>1.2</td>\n",
       "      <td>0</td>\n",
       "      <td>13</td>\n",
       "      <td>1</td>\n",
       "      <td>44</td>\n",
       "      <td>0.6</td>\n",
       "      <td>141</td>\n",
       "      <td>2</td>\n",
       "      <td>...</td>\n",
       "      <td>1208</td>\n",
       "      <td>1212</td>\n",
       "      <td>1411</td>\n",
       "      <td>8</td>\n",
       "      <td>2</td>\n",
       "      <td>15</td>\n",
       "      <td>1</td>\n",
       "      <td>1</td>\n",
       "      <td>0</td>\n",
       "      <td>1</td>\n",
       "    </tr>\n",
       "  </tbody>\n",
       "</table>\n",
       "<p>5 rows × 21 columns</p>\n",
       "</div>"
      ],
      "text/plain": [
       "   battery_power  blue  clock_speed  dual_sim  fc  four_g  int_memory  m_dep  \\\n",
       "0            842     0          2.2         0   1       0           7    0.6   \n",
       "1           1021     1          0.5         1   0       1          53    0.7   \n",
       "2            563     1          0.5         1   2       1          41    0.9   \n",
       "3            615     1          2.5         0   0       0          10    0.8   \n",
       "4           1821     1          1.2         0  13       1          44    0.6   \n",
       "\n",
       "   mobile_wt  n_cores     ...       px_height  px_width   ram  sc_h  sc_w  \\\n",
       "0        188        2     ...              20       756  2549     9     7   \n",
       "1        136        3     ...             905      1988  2631    17     3   \n",
       "2        145        5     ...            1263      1716  2603    11     2   \n",
       "3        131        6     ...            1216      1786  2769    16     8   \n",
       "4        141        2     ...            1208      1212  1411     8     2   \n",
       "\n",
       "   talk_time  three_g  touch_screen  wifi  price_range  \n",
       "0         19        0             0     1            1  \n",
       "1          7        1             1     0            2  \n",
       "2          9        1             1     0            2  \n",
       "3         11        1             0     0            2  \n",
       "4         15        1             1     0            1  \n",
       "\n",
       "[5 rows x 21 columns]"
      ]
     },
     "execution_count": 828,
     "metadata": {},
     "output_type": "execute_result"
    }
   ],
   "source": [
    "df = pd.read_csv('data/train.csv')\n",
    "print(len(df))\n",
    "df.head()"
   ]
  },
  {
   "cell_type": "code",
   "execution_count": 829,
   "metadata": {},
   "outputs": [],
   "source": [
    "chosen_features = ['battery_power', 'blue', 'clock_speed', 'dual_sim', 'fc', 'four_g', 'int_memory', 'n_cores', \\\n",
    "                   'pc', 'ram', 'talk_time', 'touch_screen', 'wifi', 'price_range']"
   ]
  },
  {
   "cell_type": "code",
   "execution_count": 830,
   "metadata": {
    "scrolled": true
   },
   "outputs": [],
   "source": [
    "newdf = df[chosen_features]\n",
    "\n",
    "df_0 = newdf[newdf['price_range'] == 0]\n",
    "df_3 = newdf[newdf['price_range'] == 1]\n",
    "\n",
    "final_df = pd.concat([df_0, df_3])\n",
    "final_df.reset_index(drop=True, inplace=True)\n",
    "\n",
    "#final_df['price_range'].replace(3,1, inplace=True)\n",
    "# for i in pb(range(len(final_df))):\n",
    "#     if final_df['price_range'][i] == 3:\n",
    "#         final_df['price_range'][i] = 1"
   ]
  },
  {
   "cell_type": "code",
   "execution_count": 832,
   "metadata": {},
   "outputs": [],
   "source": [
    "final_df.to_csv('data.csv')"
   ]
  },
  {
   "cell_type": "markdown",
   "metadata": {},
   "source": [
    "# code"
   ]
  },
  {
   "cell_type": "code",
   "execution_count": 833,
   "metadata": {},
   "outputs": [],
   "source": [
    "df = pd.read_csv('data.csv', index_col=0)"
   ]
  },
  {
   "cell_type": "code",
   "execution_count": 924,
   "metadata": {
    "scrolled": false
   },
   "outputs": [
    {
     "data": {
      "image/png": "[encoded data removed]",
      "text/plain": [
       "<Figure size 1080x576 with 1 Axes>"
      ]
     },
     "metadata": {},
     "output_type": "display_data"
    }
   ],
   "source": [
    "pca = PCA()\n",
    "\n",
    "X = pca.fit_transform(df.iloc[:,:-1])\n",
    "\n",
    "fig = plt.figure(figsize=(15,8))\n",
    "plt.scatter(X[:,0], X[:,1], c=df['price_range'])\n",
    "plt.grid()"
   ]
  },
  {
   "cell_type": "code",
   "execution_count": 786,
   "metadata": {},
   "outputs": [],
   "source": [
    "numerical = ['battery_power', 'clock_speed', 'fc', 'int_memory', 'n_cores', 'pc', 'ram', 'talk_time']\n",
    "binary = list(set(df.columns) - set(numericals))"
   ]
  },
  {
   "cell_type": "code",
   "execution_count": 1067,
   "metadata": {},
   "outputs": [],
   "source": [
    "import LazyLearning\n",
    "from importlib import reload\n",
    "reload(LazyLearning)\n",
    "from LazyLearning import LazyLearner"
   ]
  },
  {
   "cell_type": "code",
   "execution_count": 1024,
   "metadata": {},
   "outputs": [],
   "source": [
    "pivots = {'battery_power':[1000, 1300, 1750],\n",
    "         'clock_speed': None,\n",
    "         'fc': None,\n",
    "         'int_memory': [15, 25, 37, 47],\n",
    "         'n_cores': np.arange(1.5, 8, 1).tolist(),\n",
    "         'pc': [3.5, 7.5, 11.5, 15.5],\n",
    "         'ram': None,\n",
    "         'talk_time': [7, 11, 16]}"
   ]
  },
  {
   "cell_type": "markdown",
   "metadata": {},
   "source": [
    "# Logistic regression"
   ]
  },
  {
   "cell_type": "code",
   "execution_count": 1085,
   "metadata": {},
   "outputs": [
    {
     "name": "stderr",
     "output_type": "stream",
     "text": [
      "N/A% (0 of 7) |                          | Elapsed Time: 0:00:00 ETA:  --:--:--/Users/user/anaconda3/lib/python3.6/site-packages/sklearn/linear_model/logistic.py:1228: UserWarning: 'n_jobs' > 1 does not have any effect when 'solver' is set to 'liblinear'. Got 'n_jobs' = 4.\n",
      "  \" = {}.\".format(self.n_jobs))\n",
      "100% (7 of 7) |##########################| Elapsed Time: 0:00:00 Time:  0:00:00\n"
     ]
    },
    {
     "name": "stdout",
     "output_type": "stream",
     "text": [
      "Best C: 10.0\n",
      "Best penalty: l1\n"
     ]
    },
    {
     "data": {
      "text/plain": [
       "{'roc_auc': 0.9002403846153846,\n",
       " 'accuracy': 0.9,\n",
       " 'precision': 0.9117647058823529,\n",
       " 'recall': 0.8942307692307693,\n",
       " 'f1': 0.9029126213592232}"
      ]
     },
     "execution_count": 1085,
     "metadata": {},
     "output_type": "execute_result"
    }
   ],
   "source": [
    "lazy = LazyLearner(df, numerical, binary)\n",
    "\n",
    "best_score, best_c, best_pen = {'f1':0}, 0, 0\n",
    "\n",
    "c_vals = np.logspace(-3,3,7)\n",
    "pen_vals = [\"l1\",\"l2\"]\n",
    "\n",
    "for c in pb(c_vals):\n",
    "    for pen in pen_vals:\n",
    "        result = lazy.calc_logreg_metrics(c_val=c, penalty=pen)\n",
    "        if result.get('f1') > best_score.get('f1'):\n",
    "            best_score = result\n",
    "            best_c = c\n",
    "            best_pen = pen\n",
    "            \n",
    "print('Best C:', best_c)\n",
    "print('Best penalty:', best_pen)\n",
    "best_score"
   ]
  },
  {
   "cell_type": "markdown",
   "metadata": {},
   "source": [
    "# Random forest"
   ]
  },
  {
   "cell_type": "code",
   "execution_count": 1087,
   "metadata": {},
   "outputs": [
    {
     "name": "stderr",
     "output_type": "stream",
     "text": [
      "100% (10 of 10) |########################| Elapsed Time: 0:01:02 Time:  0:01:02\n"
     ]
    },
    {
     "name": "stdout",
     "output_type": "stream",
     "text": [
      "Best n_estimators: 40\n",
      "Best max_depth: 10\n",
      "Best min_samples_leaf: 3\n"
     ]
    },
    {
     "data": {
      "text/plain": [
       "{'roc_auc': 0.9006410256410255,\n",
       " 'accuracy': 0.9,\n",
       " 'precision': 0.92,\n",
       " 'recall': 0.8846153846153846,\n",
       " 'f1': 0.9019607843137256}"
      ]
     },
     "execution_count": 1087,
     "metadata": {},
     "output_type": "execute_result"
    }
   ],
   "source": [
    "lazy = LazyLearner(df, numerical, binary)\n",
    "\n",
    "estim_val = np.arange(10, 110, 10)\n",
    "depth_val = np.arange(5, 30, 5)\n",
    "leaf_val = np.arange(1, 6, 1)\n",
    "\n",
    "best_score, best_estim, best_depth, best_leaf = {'f1':0}, 0, 0, 0\n",
    "\n",
    "for estim in pb(estim_val):\n",
    "    for depth in depth_val:\n",
    "        for leaf in leaf_val:\n",
    "            result = lazy.calc_forest_metrics(estim=estim, depth=depth, leaf=leaf)\n",
    "            if result.get('f1') > best_score.get('f1'):\n",
    "                best_score = result\n",
    "                best_estim = estim\n",
    "                best_depth = depth\n",
    "                best_leaf = leaf\n",
    "                \n",
    "print('Best n_estimators:', best_estim)\n",
    "print('Best max_depth:', best_depth)\n",
    "print('Best min_samples_leaf:', best_leaf)\n",
    "best_score"
   ]
  },
  {
   "cell_type": "markdown",
   "metadata": {},
   "source": [
    "# Mean\n",
    "## Simple pivots"
   ]
  },
  {
   "cell_type": "code",
   "execution_count": 1074,
   "metadata": {
    "scrolled": true
   },
   "outputs": [
    {
     "name": "stderr",
     "output_type": "stream",
     "text": [
      "100% (200 of 200) |######################| Elapsed Time: 0:00:12 Time:  0:00:12\n"
     ]
    },
    {
     "data": {
      "text/plain": [
       "{'roc_auc': 0.921875,\n",
       " 'accuracy': 0.925,\n",
       " 'precision': 0.8739495798319328,\n",
       " 'recall': 1.0,\n",
       " 'f1': 0.9327354260089686}"
      ]
     },
     "execution_count": 1074,
     "metadata": {},
     "output_type": "execute_result"
    }
   ],
   "source": [
    "lazy = LazyLearner(df, numerical, binary)\n",
    "result_base = lazy.calc_lazy_metrics()\n",
    "result_base"
   ]
  },
  {
   "cell_type": "markdown",
   "metadata": {},
   "source": [
    "## Custom pivots"
   ]
  },
  {
   "cell_type": "code",
   "execution_count": 1075,
   "metadata": {},
   "outputs": [
    {
     "name": "stderr",
     "output_type": "stream",
     "text": [
      "100% (200 of 200) |######################| Elapsed Time: 0:00:12 Time:  0:00:12\n"
     ]
    },
    {
     "data": {
      "text/plain": [
       "{'roc_auc': 0.9427083333333333,\n",
       " 'accuracy': 0.945,\n",
       " 'precision': 0.9043478260869565,\n",
       " 'recall': 1.0,\n",
       " 'f1': 0.9497716894977168}"
      ]
     },
     "execution_count": 1075,
     "metadata": {},
     "output_type": "execute_result"
    }
   ],
   "source": [
    "lazy = LazyLearner(df, numerical, binary, pivots)\n",
    "result_pro = lazy.calc_lazy_metrics()\n",
    "result_pro"
   ]
  },
  {
   "cell_type": "markdown",
   "metadata": {},
   "source": [
    "# Median\n",
    "## Simple pivots"
   ]
  },
  {
   "cell_type": "code",
   "execution_count": 1077,
   "metadata": {},
   "outputs": [
    {
     "name": "stderr",
     "output_type": "stream",
     "text": [
      "100% (200 of 200) |######################| Elapsed Time: 0:00:12 Time:  0:00:12\n"
     ]
    },
    {
     "data": {
      "text/plain": [
       "{'roc_auc': 0.921875,\n",
       " 'accuracy': 0.925,\n",
       " 'precision': 0.8739495798319328,\n",
       " 'recall': 1.0,\n",
       " 'f1': 0.9327354260089686}"
      ]
     },
     "execution_count": 1077,
     "metadata": {},
     "output_type": "execute_result"
    }
   ],
   "source": [
    "lazy = LazyLearner(df, numerical, binary)\n",
    "result_median = lazy.calc_lazy_metrics('median')\n",
    "result_median"
   ]
  },
  {
   "cell_type": "markdown",
   "metadata": {},
   "source": [
    "## Custom pivots"
   ]
  },
  {
   "cell_type": "code",
   "execution_count": 1079,
   "metadata": {},
   "outputs": [
    {
     "name": "stderr",
     "output_type": "stream",
     "text": [
      "100% (200 of 200) |######################| Elapsed Time: 0:00:12 Time:  0:00:12\n"
     ]
    },
    {
     "data": {
      "text/plain": [
       "{'roc_auc': 0.9427083333333333,\n",
       " 'accuracy': 0.945,\n",
       " 'precision': 0.9043478260869565,\n",
       " 'recall': 1.0,\n",
       " 'f1': 0.9497716894977168}"
      ]
     },
     "execution_count": 1079,
     "metadata": {},
     "output_type": "execute_result"
    }
   ],
   "source": [
    "lazy = LazyLearner(df, numerical, binary, pivots)\n",
    "result_median = lazy.calc_lazy_metrics('median')\n",
    "result_median"
   ]
  },
  {
   "cell_type": "markdown",
   "metadata": {},
   "source": [
    "# Max\n",
    "## Simple pivots"
   ]
  },
  {
   "cell_type": "code",
   "execution_count": 1078,
   "metadata": {},
   "outputs": [
    {
     "name": "stderr",
     "output_type": "stream",
     "text": [
      "100% (200 of 200) |######################| Elapsed Time: 0:00:12 Time:  0:00:12\n"
     ]
    },
    {
     "data": {
      "text/plain": [
       "{'roc_auc': 0.6145833333333333,\n",
       " 'accuracy': 0.63,\n",
       " 'precision': 0.5842696629213483,\n",
       " 'recall': 1.0,\n",
       " 'f1': 0.7375886524822695}"
      ]
     },
     "execution_count": 1078,
     "metadata": {},
     "output_type": "execute_result"
    }
   ],
   "source": [
    "lazy = LazyLearner(df, numerical, binary)\n",
    "result_max = lazy.calc_lazy_metrics('max')\n",
    "result_max"
   ]
  },
  {
   "cell_type": "markdown",
   "metadata": {},
   "source": [
    "# Threshold = 0.5\n",
    "## Simple pivots"
   ]
  },
  {
   "cell_type": "code",
   "execution_count": 1088,
   "metadata": {},
   "outputs": [
    {
     "name": "stderr",
     "output_type": "stream",
     "text": [
      "100% (200 of 200) |######################| Elapsed Time: 0:00:12 Time:  0:00:12\n",
      "/Users/user/anaconda3/lib/python3.6/site-packages/numpy/core/fromnumeric.py:2957: RuntimeWarning: Mean of empty slice.\n",
      "  out=out, **kwargs)\n",
      "/Users/user/anaconda3/lib/python3.6/site-packages/numpy/core/_methods.py:80: RuntimeWarning: invalid value encountered in double_scalars\n",
      "  ret = ret.dtype.type(ret / rcount)\n"
     ]
    },
    {
     "data": {
      "text/plain": [
       "{'roc_auc': 0.7732371794871795,\n",
       " 'accuracy': 0.78,\n",
       " 'precision': 0.7205882352941176,\n",
       " 'recall': 0.9423076923076923,\n",
       " 'f1': 0.8166666666666668}"
      ]
     },
     "execution_count": 1088,
     "metadata": {},
     "output_type": "execute_result"
    }
   ],
   "source": [
    "lazy = LazyLearner(df, numerical, binary, threshold=0.5)\n",
    "result_tr_05 = lazy.calc_lazy_metrics()\n",
    "result_tr_05"
   ]
  },
  {
   "cell_type": "markdown",
   "metadata": {},
   "source": [
    "## Custom pivots"
   ]
  },
  {
   "cell_type": "code",
   "execution_count": 1089,
   "metadata": {},
   "outputs": [
    {
     "name": "stderr",
     "output_type": "stream",
     "text": [
      "100% (200 of 200) |######################| Elapsed Time: 0:00:12 Time:  0:00:12\n",
      "/Users/user/anaconda3/lib/python3.6/site-packages/numpy/core/fromnumeric.py:2957: RuntimeWarning: Mean of empty slice.\n",
      "  out=out, **kwargs)\n",
      "/Users/user/anaconda3/lib/python3.6/site-packages/numpy/core/_methods.py:80: RuntimeWarning: invalid value encountered in double_scalars\n",
      "  ret = ret.dtype.type(ret / rcount)\n"
     ]
    },
    {
     "data": {
      "text/plain": [
       "{'roc_auc': 0.7736378205128205,\n",
       " 'accuracy': 0.78,\n",
       " 'precision': 0.7238805970149254,\n",
       " 'recall': 0.9326923076923077,\n",
       " 'f1': 0.8151260504201682}"
      ]
     },
     "execution_count": 1089,
     "metadata": {},
     "output_type": "execute_result"
    }
   ],
   "source": [
    "lazy = LazyLearner(df, numerical, binary, pivots, threshold=0.5)\n",
    "result_tr_05 = lazy.calc_lazy_metrics()\n",
    "result_tr_05"
   ]
  },
  {
   "cell_type": "markdown",
   "metadata": {},
   "source": [
    "# Threshold = 0.3\n",
    "## Simple pivots"
   ]
  },
  {
   "cell_type": "code",
   "execution_count": 1090,
   "metadata": {},
   "outputs": [
    {
     "name": "stderr",
     "output_type": "stream",
     "text": [
      "100% (200 of 200) |######################| Elapsed Time: 0:00:12 Time:  0:00:12\n",
      "/Users/user/anaconda3/lib/python3.6/site-packages/numpy/core/fromnumeric.py:2957: RuntimeWarning: Mean of empty slice.\n",
      "  out=out, **kwargs)\n",
      "/Users/user/anaconda3/lib/python3.6/site-packages/numpy/core/_methods.py:80: RuntimeWarning: invalid value encountered in double_scalars\n",
      "  ret = ret.dtype.type(ret / rcount)\n"
     ]
    },
    {
     "data": {
      "text/plain": [
       "{'roc_auc': 0.7247596153846154,\n",
       " 'accuracy': 0.725,\n",
       " 'precision': 0.7378640776699029,\n",
       " 'recall': 0.7307692307692307,\n",
       " 'f1': 0.7342995169082126}"
      ]
     },
     "execution_count": 1090,
     "metadata": {},
     "output_type": "execute_result"
    }
   ],
   "source": [
    "lazy = LazyLearner(df, numerical, binary, threshold=0.3)\n",
    "result_tr_03 = lazy.calc_lazy_metrics()\n",
    "result_tr_03"
   ]
  },
  {
   "cell_type": "markdown",
   "metadata": {},
   "source": [
    "## Custom pivots"
   ]
  },
  {
   "cell_type": "code",
   "execution_count": 1102,
   "metadata": {
    "scrolled": true
   },
   "outputs": [
    {
     "name": "stderr",
     "output_type": "stream",
     "text": [
      "100% (200 of 200) |######################| Elapsed Time: 0:00:13 Time:  0:00:13\n",
      "/Users/user/anaconda3/lib/python3.6/site-packages/numpy/core/fromnumeric.py:2957: RuntimeWarning: Mean of empty slice.\n",
      "  out=out, **kwargs)\n",
      "/Users/user/anaconda3/lib/python3.6/site-packages/numpy/core/_methods.py:80: RuntimeWarning: invalid value encountered in double_scalars\n",
      "  ret = ret.dtype.type(ret / rcount)\n"
     ]
    },
    {
     "data": {
      "text/plain": [
       "{'roc_auc': 0.6858974358974358,\n",
       " 'accuracy': 0.685,\n",
       " 'precision': 0.711340206185567,\n",
       " 'recall': 0.6634615384615384,\n",
       " 'f1': 0.6865671641791045}"
      ]
     },
     "execution_count": 1102,
     "metadata": {},
     "output_type": "execute_result"
    }
   ],
   "source": [
    "lazy = LazyLearner(df, numerical, binary, pivots, threshold=0.3)\n",
    "result_tr_03 = lazy.calc_lazy_metrics()\n",
    "result_tr_03"
   ]
  },
  {
   "cell_type": "markdown",
   "metadata": {},
   "source": [
    "# Weighted mean\n",
    "## Simple pivots"
   ]
  },
  {
   "cell_type": "code",
   "execution_count": 1147,
   "metadata": {},
   "outputs": [
    {
     "name": "stderr",
     "output_type": "stream",
     "text": [
      "100% (200 of 200) |######################| Elapsed Time: 0:00:12 Time:  0:00:12\n",
      "100% (800 of 800) |######################| Elapsed Time: 0:00:49 Time:  0:00:49\n"
     ]
    },
    {
     "data": {
      "text/plain": [
       "{'roc_auc': 0.9947916666666667,\n",
       " 'accuracy': 0.995,\n",
       " 'precision': 0.9904761904761905,\n",
       " 'recall': 1.0,\n",
       " 'f1': 0.9952153110047847}"
      ]
     },
     "execution_count": 1147,
     "metadata": {},
     "output_type": "execute_result"
    }
   ],
   "source": [
    "import LazyLearning\n",
    "from importlib import reload\n",
    "reload(LazyLearning)\n",
    "from LazyLearning import LazyLearner\n",
    "\n",
    "lazy = LazyLearner(df, numerical, binary)\n",
    "result_weighted = lazy.calc_lazy_metrics('weighted_mean')\n",
    "result_weighted"
   ]
  },
  {
   "cell_type": "markdown",
   "metadata": {},
   "source": [
    "## Custom pivots"
   ]
  },
  {
   "cell_type": "code",
   "execution_count": 1148,
   "metadata": {},
   "outputs": [
    {
     "name": "stderr",
     "output_type": "stream",
     "text": [
      "100% (200 of 200) |######################| Elapsed Time: 0:00:12 Time:  0:00:12\n",
      "100% (800 of 800) |######################| Elapsed Time: 0:00:51 Time:  0:00:51\n"
     ]
    },
    {
     "data": {
      "text/plain": [
       "{'roc_auc': 0.9947916666666667,\n",
       " 'accuracy': 0.995,\n",
       " 'precision': 0.9904761904761905,\n",
       " 'recall': 1.0,\n",
       " 'f1': 0.9952153110047847}"
      ]
     },
     "execution_count": 1148,
     "metadata": {},
     "output_type": "execute_result"
    }
   ],
   "source": [
    "import LazyLearning\n",
    "from importlib import reload\n",
    "reload(LazyLearning)\n",
    "from LazyLearning import LazyLearner\n",
    "\n",
    "lazy = LazyLearner(df, numerical, binary, pivots)\n",
    "result_weighted = lazy.calc_lazy_metrics('weighted_mean')\n",
    "result_weighted"
   ]
  },
  {
   "cell_type": "markdown",
   "metadata": {},
   "source": [
    "# ------"
   ]
  },
  {
   "cell_type": "code",
   "execution_count": 746,
   "metadata": {
    "scrolled": true
   },
   "outputs": [
    {
     "data": {
      "text/plain": [
       "array([['battery_power', 'clock_speed'],\n",
       "       ['fc', 'int_memory'],\n",
       "       ['n_cores', 'pc'],\n",
       "       ['ram', 'talk_time']], dtype='<U13')"
      ]
     },
     "execution_count": 746,
     "metadata": {},
     "output_type": "execute_result"
    }
   ],
   "source": [
    "cat_plot"
   ]
  },
  {
   "cell_type": "code",
   "execution_count": 747,
   "metadata": {},
   "outputs": [
    {
     "data": {
      "text/plain": [
       "array([[50,  5],\n",
       "       [ 5, 50],\n",
       "       [ 8, 25],\n",
       "       [20, 18]])"
      ]
     },
     "execution_count": 747,
     "metadata": {},
     "output_type": "execute_result"
    }
   ],
   "source": [
    "bin_plot"
   ]
  },
  {
   "cell_type": "code",
   "execution_count": 748,
   "metadata": {
    "scrolled": false
   },
   "outputs": [
    {
     "data": {
      "image/png": "[encoded data removed]",
      "text/plain": [
       "<Figure size 1080x1080 with 8 Axes>"
      ]
     },
     "metadata": {},
     "output_type": "display_data"
    }
   ],
   "source": [
    "cat_plot = np.array(numerical).reshape(-1,2)\n",
    "bin_plot = np.array(bins).reshape(-1,2)\n",
    "\n",
    "fig, axs = plt.subplots(4, 2)\n",
    "fig.set_figheight(15)\n",
    "fig.set_figwidth(15)\n",
    "\n",
    "for i in range(cat_plot.shape[0]):\n",
    "    for j in range(cat_plot.shape[1]):\n",
    "        axs[i,j].set_title(cat_plot[i,j])\n",
    "        axs[i,j].hist(df[cat_plot[i,j]], bins=bin_plot[i,j], edgecolor='black', linewidth=1)\n",
    "        plt.xlabel('Value', size=15)\n",
    "        plt.ylabel('Frequency', size=15)\n",
    "        plt.grid(axis='y')\n",
    "        \n",
    "fig.tight_layout()"
   ]
  },
  {
   "cell_type": "markdown",
   "metadata": {},
   "source": [
    "# FIN"
   ]
  },
  {
   "cell_type": "code",
   "execution_count": null,
   "metadata": {},
   "outputs": [],
   "source": []
  },
  {
   "cell_type": "code",
   "execution_count": null,
   "metadata": {},
   "outputs": [],
   "source": []
  },
  {
   "cell_type": "code",
   "execution_count": 100,
   "metadata": {},
   "outputs": [
    {
     "data": {
      "text/plain": [
       "{0: 'blue',\n",
       " 1: 'dual_sim',\n",
       " 2: 'four_g',\n",
       " 3: 'touch_screen',\n",
       " 4: 'wifi',\n",
       " 5: 'price_range'}"
      ]
     },
     "execution_count": 100,
     "metadata": {},
     "output_type": "execute_result"
    }
   ],
   "source": [
    "bins = ['blue', 'dual_sim', 'four_g', 'touch_screen', 'wifi', 'price_range']\n",
    "bins_d = {i:bins[i] for i in range(len(bins))}\n",
    "bins_d"
   ]
  },
  {
   "cell_type": "code",
   "execution_count": 87,
   "metadata": {
    "scrolled": true
   },
   "outputs": [
    {
     "data": {
      "text/html": [
       "<div>\n",
       "<style scoped>\n",
       "    .dataframe tbody tr th:only-of-type {\n",
       "        vertical-align: middle;\n",
       "    }\n",
       "\n",
       "    .dataframe tbody tr th {\n",
       "        vertical-align: top;\n",
       "    }\n",
       "\n",
       "    .dataframe thead th {\n",
       "        text-align: right;\n",
       "    }\n",
       "</style>\n",
       "<table border=\"1\" class=\"dataframe\">\n",
       "  <thead>\n",
       "    <tr style=\"text-align: right;\">\n",
       "      <th></th>\n",
       "      <th>blue</th>\n",
       "      <th>dual_sim</th>\n",
       "      <th>four_g</th>\n",
       "      <th>touch_screen</th>\n",
       "      <th>wifi</th>\n",
       "      <th>price_range</th>\n",
       "    </tr>\n",
       "  </thead>\n",
       "  <tbody>\n",
       "    <tr>\n",
       "      <th>0</th>\n",
       "      <td>0</td>\n",
       "      <td>1</td>\n",
       "      <td>0</td>\n",
       "      <td>1</td>\n",
       "      <td>1</td>\n",
       "      <td>0</td>\n",
       "    </tr>\n",
       "    <tr>\n",
       "      <th>1</th>\n",
       "      <td>1</td>\n",
       "      <td>0</td>\n",
       "      <td>0</td>\n",
       "      <td>0</td>\n",
       "      <td>0</td>\n",
       "      <td>0</td>\n",
       "    </tr>\n",
       "    <tr>\n",
       "      <th>2</th>\n",
       "      <td>1</td>\n",
       "      <td>1</td>\n",
       "      <td>1</td>\n",
       "      <td>0</td>\n",
       "      <td>0</td>\n",
       "      <td>0</td>\n",
       "    </tr>\n",
       "    <tr>\n",
       "      <th>3</th>\n",
       "      <td>0</td>\n",
       "      <td>0</td>\n",
       "      <td>1</td>\n",
       "      <td>0</td>\n",
       "      <td>1</td>\n",
       "      <td>0</td>\n",
       "    </tr>\n",
       "    <tr>\n",
       "      <th>4</th>\n",
       "      <td>0</td>\n",
       "      <td>0</td>\n",
       "      <td>0</td>\n",
       "      <td>1</td>\n",
       "      <td>1</td>\n",
       "      <td>0</td>\n",
       "    </tr>\n",
       "  </tbody>\n",
       "</table>\n",
       "</div>"
      ],
      "text/plain": [
       "   blue  dual_sim  four_g  touch_screen  wifi  price_range\n",
       "0     0         1       0             1     1            0\n",
       "1     1         0       0             0     0            0\n",
       "2     1         1       1             0     0            0\n",
       "3     0         0       1             0     1            0\n",
       "4     0         0       0             1     1            0"
      ]
     },
     "execution_count": 87,
     "metadata": {},
     "output_type": "execute_result"
    }
   ],
   "source": [
    "df_bin = df[bins]\n",
    "df_bin.head()"
   ]
  },
  {
   "cell_type": "code",
   "execution_count": 302,
   "metadata": {},
   "outputs": [
    {
     "data": {
      "text/plain": [
       "blue            0\n",
       "dual_sim        0\n",
       "four_g          0\n",
       "touch_screen    0\n",
       "wifi            0\n",
       "price_range     1\n",
       "Name: 784, dtype: int64"
      ]
     },
     "execution_count": 302,
     "metadata": {},
     "output_type": "execute_result"
    }
   ],
   "source": [
    "X_test.iloc[20,:]"
   ]
  },
  {
   "cell_type": "code",
   "execution_count": 303,
   "metadata": {},
   "outputs": [
    {
     "data": {
      "text/plain": [
       "blue            0\n",
       "dual_sim        0\n",
       "four_g          0\n",
       "touch_screen    1\n",
       "wifi            0\n",
       "price_range     1\n",
       "Name: 801, dtype: int64"
      ]
     },
     "execution_count": 303,
     "metadata": {},
     "output_type": "execute_result"
    }
   ],
   "source": [
    "X_train.iloc[20,:]"
   ]
  },
  {
   "cell_type": "code",
   "execution_count": 306,
   "metadata": {},
   "outputs": [
    {
     "data": {
      "text/plain": [
       "0"
      ]
     },
     "execution_count": 306,
     "metadata": {},
     "output_type": "execute_result"
    }
   ],
   "source": [
    "test_ones = np.where(X_test_np[20,:-1] == 1)[0]\n",
    "train_ones = np.where(X_train_np[20,:-1] == 1)[0]\n",
    "both_ones = np.intersect1d(test_ones, train_ones)\n",
    "len(both_ones)"
   ]
  },
  {
   "cell_type": "code",
   "execution_count": 120,
   "metadata": {},
   "outputs": [],
   "source": [
    "from sklearn.model_selection import train_test_split\n",
    "X_train, X_test = train_test_split(df_bin, test_size=0.2, random_state=4)"
   ]
  },
  {
   "cell_type": "code",
   "execution_count": 204,
   "metadata": {},
   "outputs": [],
   "source": [
    "X_train_np, X_test_np = np.array(X_train), np.array(X_test)"
   ]
  },
  {
   "cell_type": "code",
   "execution_count": 178,
   "metadata": {},
   "outputs": [
    {
     "name": "stdout",
     "output_type": "stream",
     "text": [
      "0.2975\n",
      "0.2375\n"
     ]
    }
   ],
   "source": [
    "from copy import deepcopy\n",
    "\n",
    "X_train_pos = X_train[X_train['price_range'] == 1]\n",
    "X_train_neg = X_train[X_train['price_range'] == 0]\n",
    "\n",
    "X_sub_pos = deepcopy(X_train_pos)\n",
    "X_sub_neg = deepcopy(X_train_neg)\n",
    "\n",
    "for elem in a:\n",
    "    X_sub_pos = X_sub_pos[X_sub_pos[bins_d[elem]] == 1]\n",
    "    X_sub_neg = X_sub_neg[X_sub_neg[bins_d[elem]] == 1]\n",
    "    \n",
    "print(len(X_sub_pos) / len(X_train_pos))\n",
    "print(len(X_sub_neg) / len(X_train_neg))\n",
    "    \n"
   ]
  },
  {
   "cell_type": "code",
   "execution_count": 196,
   "metadata": {},
   "outputs": [],
   "source": [
    "import time"
   ]
  },
  {
   "cell_type": "code",
   "execution_count": 223,
   "metadata": {},
   "outputs": [
    {
     "data": {
      "text/plain": [
       "{0, 1, 2, 4}"
      ]
     },
     "execution_count": 223,
     "metadata": {},
     "output_type": "execute_result"
    }
   ],
   "source": [
    "set(np.where(X_test_np[i,:-1] == 1)[0])"
   ]
  },
  {
   "cell_type": "code",
   "execution_count": 261,
   "metadata": {},
   "outputs": [
    {
     "name": "stderr",
     "output_type": "stream",
     "text": [
      "100% (200 of 200) |######################| Elapsed Time: 0:03:29 Time:  0:03:29\n"
     ]
    }
   ],
   "source": [
    "X_train_pos = X_train[X_train['price_range'] == 1]\n",
    "X_train_neg = X_train[X_train['price_range'] == 0]\n",
    "\n",
    "support_pos, support_neg = [], []\n",
    "\n",
    "preds = []\n",
    "\n",
    "for i in pb(range(len(X_test))):\n",
    "    support_pos_i, support_neg_i= [], []\n",
    "    for j in range(len(X_train)):\n",
    "        \n",
    "        test_ones = np.where(X_test_np[i,:-1] == 1)[0]\n",
    "        train_ones = np.where(X_train_np[j,:-1] == 1)[0]\n",
    "        both_ones = np.intersect1d(test_ones, train_ones)\n",
    "        \n",
    "        if len(both_ones) > 0:\n",
    "            \n",
    "            X_sub_pos = deepcopy(X_train_pos)\n",
    "            X_sub_neg = deepcopy(X_train_neg)\n",
    "            \n",
    "            for elem in both_ones:\n",
    "                X_sub_pos = X_sub_pos[X_sub_pos[bins_d[elem]] == 1]\n",
    "                X_sub_neg = X_sub_neg[X_sub_neg[bins_d[elem]] == 1]\n",
    "            \n",
    "            support_pos_i.append(len(X_sub_pos) / len(X_train_pos))\n",
    "            support_neg_i.append(len(X_sub_neg) / len(X_train_neg))\n",
    "            \n",
    "    support_pos.append(support_pos_i)\n",
    "    support_neg.append(support_neg_i)"
   ]
  },
  {
   "cell_type": "code",
   "execution_count": 282,
   "metadata": {},
   "outputs": [
    {
     "data": {
      "text/plain": [
       "751"
      ]
     },
     "execution_count": 282,
     "metadata": {},
     "output_type": "execute_result"
    }
   ],
   "source": [
    "len(support_pos[0])"
   ]
  },
  {
   "cell_type": "code",
   "execution_count": 245,
   "metadata": {},
   "outputs": [
    {
     "data": {
      "text/plain": [
       "0.2975"
      ]
     },
     "execution_count": 245,
     "metadata": {},
     "output_type": "execute_result"
    }
   ],
   "source": [
    "np.mean(support_pos)"
   ]
  },
  {
   "cell_type": "code",
   "execution_count": 218,
   "metadata": {},
   "outputs": [
    {
     "data": {
      "text/plain": [
       "0.25270972037283623"
      ]
     },
     "execution_count": 218,
     "metadata": {},
     "output_type": "execute_result"
    }
   ],
   "source": [
    "np.mean(support_neg)"
   ]
  },
  {
   "cell_type": "code",
   "execution_count": 194,
   "metadata": {},
   "outputs": [
    {
     "data": {
      "text/plain": [
       "blue            1\n",
       "dual_sim        1\n",
       "four_g          1\n",
       "touch_screen    0\n",
       "wifi            1\n",
       "price_range     1\n",
       "Name: 698, dtype: int64"
      ]
     },
     "execution_count": 194,
     "metadata": {},
     "output_type": "execute_result"
    }
   ],
   "source": [
    "X_test.iloc[0,:]"
   ]
  },
  {
   "cell_type": "code",
   "execution_count": null,
   "metadata": {},
   "outputs": [],
   "source": []
  }
 ],
 "metadata": {
  "kernelspec": {
   "display_name": "Python 3",
   "language": "python",
   "name": "python3"
  },
  "language_info": {
   "codemirror_mode": {
    "name": "ipython",
    "version": 3
   },
   "file_extension": ".py",
   "mimetype": "text/x-python",
   "name": "python",
   "nbconvert_exporter": "python",
   "pygments_lexer": "ipython3",
   "version": "3.6.5"
  }
 },
 "nbformat": 4,
 "nbformat_minor": 2
}
