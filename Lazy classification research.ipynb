{
 "cells": [
  {
   "cell_type": "markdown",
   "metadata": {},
   "source": [
    "# Data preparation"
   ]
  },
  {
   "cell_type": "code",
   "execution_count": 10,
   "metadata": {},
   "outputs": [],
   "source": [
    "import pandas as pd\n",
    "import numpy as np\n",
    "from sklearn.metrics import roc_auc_score, f1_score\n",
    "from progressbar import progressbar as pb\n",
    "from matplotlib import pyplot as plt\n",
    "from sklearn.linear_model import LogisticRegression\n",
    "from sklearn.decomposition import PCA\n",
    "from matplotlib.backends.backend_pdf import PdfPages\n",
    "np.random.seed(4)"
   ]
  },
  {
   "cell_type": "code",
   "execution_count": 2,
   "metadata": {},
   "outputs": [
    {
     "name": "stdout",
     "output_type": "stream",
     "text": [
      "2000\n"
     ]
    },
    {
     "data": {
      "text/html": [
       "<div>\n",
       "<style scoped>\n",
       "    .dataframe tbody tr th:only-of-type {\n",
       "        vertical-align: middle;\n",
       "    }\n",
       "\n",
       "    .dataframe tbody tr th {\n",
       "        vertical-align: top;\n",
       "    }\n",
       "\n",
       "    .dataframe thead th {\n",
       "        text-align: right;\n",
       "    }\n",
       "</style>\n",
       "<table border=\"1\" class=\"dataframe\">\n",
       "  <thead>\n",
       "    <tr style=\"text-align: right;\">\n",
       "      <th></th>\n",
       "      <th>battery_power</th>\n",
       "      <th>blue</th>\n",
       "      <th>clock_speed</th>\n",
       "      <th>dual_sim</th>\n",
       "      <th>fc</th>\n",
       "      <th>four_g</th>\n",
       "      <th>int_memory</th>\n",
       "      <th>m_dep</th>\n",
       "      <th>mobile_wt</th>\n",
       "      <th>n_cores</th>\n",
       "      <th>...</th>\n",
       "      <th>px_height</th>\n",
       "      <th>px_width</th>\n",
       "      <th>ram</th>\n",
       "      <th>sc_h</th>\n",
       "      <th>sc_w</th>\n",
       "      <th>talk_time</th>\n",
       "      <th>three_g</th>\n",
       "      <th>touch_screen</th>\n",
       "      <th>wifi</th>\n",
       "      <th>price_range</th>\n",
       "    </tr>\n",
       "  </thead>\n",
       "  <tbody>\n",
       "    <tr>\n",
       "      <th>0</th>\n",
       "      <td>842</td>\n",
       "      <td>0</td>\n",
       "      <td>2.2</td>\n",
       "      <td>0</td>\n",
       "      <td>1</td>\n",
       "      <td>0</td>\n",
       "      <td>7</td>\n",
       "      <td>0.6</td>\n",
       "      <td>188</td>\n",
       "      <td>2</td>\n",
       "      <td>...</td>\n",
       "      <td>20</td>\n",
       "      <td>756</td>\n",
       "      <td>2549</td>\n",
       "      <td>9</td>\n",
       "      <td>7</td>\n",
       "      <td>19</td>\n",
       "      <td>0</td>\n",
       "      <td>0</td>\n",
       "      <td>1</td>\n",
       "      <td>1</td>\n",
       "    </tr>\n",
       "    <tr>\n",
       "      <th>1</th>\n",
       "      <td>1021</td>\n",
       "      <td>1</td>\n",
       "      <td>0.5</td>\n",
       "      <td>1</td>\n",
       "      <td>0</td>\n",
       "      <td>1</td>\n",
       "      <td>53</td>\n",
       "      <td>0.7</td>\n",
       "      <td>136</td>\n",
       "      <td>3</td>\n",
       "      <td>...</td>\n",
       "      <td>905</td>\n",
       "      <td>1988</td>\n",
       "      <td>2631</td>\n",
       "      <td>17</td>\n",
       "      <td>3</td>\n",
       "      <td>7</td>\n",
       "      <td>1</td>\n",
       "      <td>1</td>\n",
       "      <td>0</td>\n",
       "      <td>2</td>\n",
       "    </tr>\n",
       "    <tr>\n",
       "      <th>2</th>\n",
       "      <td>563</td>\n",
       "      <td>1</td>\n",
       "      <td>0.5</td>\n",
       "      <td>1</td>\n",
       "      <td>2</td>\n",
       "      <td>1</td>\n",
       "      <td>41</td>\n",
       "      <td>0.9</td>\n",
       "      <td>145</td>\n",
       "      <td>5</td>\n",
       "      <td>...</td>\n",
       "      <td>1263</td>\n",
       "      <td>1716</td>\n",
       "      <td>2603</td>\n",
       "      <td>11</td>\n",
       "      <td>2</td>\n",
       "      <td>9</td>\n",
       "      <td>1</td>\n",
       "      <td>1</td>\n",
       "      <td>0</td>\n",
       "      <td>2</td>\n",
       "    </tr>\n",
       "    <tr>\n",
       "      <th>3</th>\n",
       "      <td>615</td>\n",
       "      <td>1</td>\n",
       "      <td>2.5</td>\n",
       "      <td>0</td>\n",
       "      <td>0</td>\n",
       "      <td>0</td>\n",
       "      <td>10</td>\n",
       "      <td>0.8</td>\n",
       "      <td>131</td>\n",
       "      <td>6</td>\n",
       "      <td>...</td>\n",
       "      <td>1216</td>\n",
       "      <td>1786</td>\n",
       "      <td>2769</td>\n",
       "      <td>16</td>\n",
       "      <td>8</td>\n",
       "      <td>11</td>\n",
       "      <td>1</td>\n",
       "      <td>0</td>\n",
       "      <td>0</td>\n",
       "      <td>2</td>\n",
       "    </tr>\n",
       "    <tr>\n",
       "      <th>4</th>\n",
       "      <td>1821</td>\n",
       "      <td>1</td>\n",
       "      <td>1.2</td>\n",
       "      <td>0</td>\n",
       "      <td>13</td>\n",
       "      <td>1</td>\n",
       "      <td>44</td>\n",
       "      <td>0.6</td>\n",
       "      <td>141</td>\n",
       "      <td>2</td>\n",
       "      <td>...</td>\n",
       "      <td>1208</td>\n",
       "      <td>1212</td>\n",
       "      <td>1411</td>\n",
       "      <td>8</td>\n",
       "      <td>2</td>\n",
       "      <td>15</td>\n",
       "      <td>1</td>\n",
       "      <td>1</td>\n",
       "      <td>0</td>\n",
       "      <td>1</td>\n",
       "    </tr>\n",
       "  </tbody>\n",
       "</table>\n",
       "<p>5 rows × 21 columns</p>\n",
       "</div>"
      ],
      "text/plain": [
       "   battery_power  blue  clock_speed  dual_sim  fc  four_g  int_memory  m_dep  \\\n",
       "0            842     0          2.2         0   1       0           7    0.6   \n",
       "1           1021     1          0.5         1   0       1          53    0.7   \n",
       "2            563     1          0.5         1   2       1          41    0.9   \n",
       "3            615     1          2.5         0   0       0          10    0.8   \n",
       "4           1821     1          1.2         0  13       1          44    0.6   \n",
       "\n",
       "   mobile_wt  n_cores     ...       px_height  px_width   ram  sc_h  sc_w  \\\n",
       "0        188        2     ...              20       756  2549     9     7   \n",
       "1        136        3     ...             905      1988  2631    17     3   \n",
       "2        145        5     ...            1263      1716  2603    11     2   \n",
       "3        131        6     ...            1216      1786  2769    16     8   \n",
       "4        141        2     ...            1208      1212  1411     8     2   \n",
       "\n",
       "   talk_time  three_g  touch_screen  wifi  price_range  \n",
       "0         19        0             0     1            1  \n",
       "1          7        1             1     0            2  \n",
       "2          9        1             1     0            2  \n",
       "3         11        1             0     0            2  \n",
       "4         15        1             1     0            1  \n",
       "\n",
       "[5 rows x 21 columns]"
      ]
     },
     "execution_count": 2,
     "metadata": {},
     "output_type": "execute_result"
    }
   ],
   "source": [
    "df = pd.read_csv('data/train.csv')\n",
    "print(len(df))\n",
    "df.head()"
   ]
  },
  {
   "cell_type": "code",
   "execution_count": 4,
   "metadata": {},
   "outputs": [
    {
     "data": {
      "text/plain": [
       "14"
      ]
     },
     "execution_count": 4,
     "metadata": {},
     "output_type": "execute_result"
    }
   ],
   "source": [
    "chosen_features = ['battery_power', 'blue', 'clock_speed', 'dual_sim', 'fc', 'four_g', 'int_memory', 'n_cores', \\\n",
    "                   'pc', 'ram', 'talk_time', 'touch_screen', 'wifi', 'price_range']\n",
    "len(chosen_features)"
   ]
  },
  {
   "cell_type": "code",
   "execution_count": 5,
   "metadata": {
    "scrolled": true
   },
   "outputs": [],
   "source": [
    "newdf = df[chosen_features]\n",
    "\n",
    "df_0 = newdf[newdf['price_range'] == 0]\n",
    "df_3 = newdf[newdf['price_range'] == 1]\n",
    "\n",
    "final_df = pd.concat([df_0, df_3])\n",
    "final_df.reset_index(drop=True, inplace=True)"
   ]
  },
  {
   "cell_type": "code",
   "execution_count": 6,
   "metadata": {},
   "outputs": [],
   "source": [
    "final_df.to_csv('data.csv')"
   ]
  },
  {
   "cell_type": "markdown",
   "metadata": {},
   "source": [
    "# Code"
   ]
  },
  {
   "cell_type": "code",
   "execution_count": 7,
   "metadata": {},
   "outputs": [],
   "source": [
    "df = pd.read_csv('data.csv', index_col=0)"
   ]
  },
  {
   "cell_type": "code",
   "execution_count": 9,
   "metadata": {
    "scrolled": false
   },
   "outputs": [
    {
     "data": {
      "image/png": "[encoded data removed]",
      "text/plain": [
       "<Figure size 1080x720 with 1 Axes>"
      ]
     },
     "metadata": {},
     "output_type": "display_data"
    }
   ],
   "source": [
    "pca = PCA(n_components=2)\n",
    "\n",
    "X = pca.fit_transform(df.iloc[:,:-1])\n",
    "\n",
    "fig = plt.figure(figsize=(15,10))\n",
    "plt.scatter(X[:500,0], X[:500,1], c='dodgerblue', label='Category 0')\n",
    "plt.scatter(X[500:,0], X[500:,1], c='red', label='Category 1')\n",
    "plt.legend(fontsize=15)\n",
    "plt.grid()\n",
    "\n",
    "# pp = PdfPages('pca.pdf', keep_empty=False)\n",
    "# pp.savefig(fig)\n",
    "# pp.close()"
   ]
  },
  {
   "cell_type": "code",
   "execution_count": 11,
   "metadata": {},
   "outputs": [
    {
     "data": {
      "text/plain": [
       "{0: 'blue',\n",
       " 1: 'dual_sim',\n",
       " 2: 'four_g',\n",
       " 3: 'touch_screen',\n",
       " 4: 'wifi',\n",
       " 5: 'price_range'}"
      ]
     },
     "execution_count": 11,
     "metadata": {},
     "output_type": "execute_result"
    }
   ],
   "source": [
    "bins = ['blue', 'dual_sim', 'four_g', 'touch_screen', 'wifi', 'price_range']\n",
    "num_bins = np.array([50,5,5,50,8,25,20,18])\n",
    "bins_d = {i:bins[i] for i in range(len(bins))}\n",
    "bins_d"
   ]
  },
  {
   "cell_type": "code",
   "execution_count": 14,
   "metadata": {},
   "outputs": [],
   "source": [
    "numerical = ['battery_power', 'clock_speed', 'fc', 'int_memory', 'n_cores', 'pc', 'ram', 'talk_time']\n",
    "binary = list(set(df.columns) - set(numerical))"
   ]
  },
  {
   "cell_type": "code",
   "execution_count": 15,
   "metadata": {},
   "outputs": [
    {
     "data": {
      "image/png": "[encoded data removed]",
      "text/plain": [
       "<Figure size 1080x1296 with 8 Axes>"
      ]
     },
     "metadata": {},
     "output_type": "display_data"
    }
   ],
   "source": [
    "cat_plot = np.array(numerical).reshape(-1,2)\n",
    "bin_plot = np.array(num_bins).reshape(-1,2)\n",
    "\n",
    "fig, axs = plt.subplots(4, 2)\n",
    "fig.set_figheight(18)\n",
    "fig.set_figwidth(15)\n",
    "\n",
    "for i in range(cat_plot.shape[0]):\n",
    "    for j in range(cat_plot.shape[1]):\n",
    "        axs[i,j].set_title(cat_plot[i,j], size=15)\n",
    "        axs[i,j].hist(df[cat_plot[i,j]], bins=bin_plot[i,j], edgecolor='black', linewidth=1)\n",
    "        axs[i,j].set_xlabel('Value', size=10)\n",
    "        axs[i,j].set_ylabel('Frequency', size=10)\n",
    "        axs[i,j].grid(axis='y')\n",
    "        \n",
    "fig.tight_layout()"
   ]
  },
  {
   "cell_type": "code",
   "execution_count": 19,
   "metadata": {},
   "outputs": [],
   "source": [
    "pivots = {'battery_power':[1000, 1300, 1750],\n",
    "         'clock_speed': None,\n",
    "         'fc': None,\n",
    "         'int_memory': [15, 25, 37, 47],\n",
    "         'n_cores': np.arange(1.5, 8, 1).tolist(),\n",
    "         'pc': [3.5, 7.5, 11.5, 15.5],\n",
    "         'ram': None,\n",
    "         'talk_time': [7, 11, 16]}"
   ]
  },
  {
   "cell_type": "code",
   "execution_count": 16,
   "metadata": {},
   "outputs": [],
   "source": [
    "import LazyLearning\n",
    "from importlib import reload\n",
    "reload(LazyLearning)\n",
    "from LazyLearning import LazyLearner"
   ]
  },
  {
   "cell_type": "markdown",
   "metadata": {},
   "source": [
    "# Logistic regression"
   ]
  },
  {
   "cell_type": "code",
   "execution_count": 1085,
   "metadata": {},
   "outputs": [
    {
     "name": "stderr",
     "output_type": "stream",
     "text": [
      "N/A% (0 of 7) |                          | Elapsed Time: 0:00:00 ETA:  --:--:--/Users/user/anaconda3/lib/python3.6/site-packages/sklearn/linear_model/logistic.py:1228: UserWarning: 'n_jobs' > 1 does not have any effect when 'solver' is set to 'liblinear'. Got 'n_jobs' = 4.\n",
      "  \" = {}.\".format(self.n_jobs))\n",
      "100% (7 of 7) |##########################| Elapsed Time: 0:00:00 Time:  0:00:00\n"
     ]
    },
    {
     "name": "stdout",
     "output_type": "stream",
     "text": [
      "Best C: 10.0\n",
      "Best penalty: l1\n"
     ]
    },
    {
     "data": {
      "text/plain": [
       "{'roc_auc': 0.9002403846153846,\n",
       " 'accuracy': 0.9,\n",
       " 'precision': 0.9117647058823529,\n",
       " 'recall': 0.8942307692307693,\n",
       " 'f1': 0.9029126213592232}"
      ]
     },
     "execution_count": 1085,
     "metadata": {},
     "output_type": "execute_result"
    }
   ],
   "source": [
    "lazy = LazyLearner(df, numerical, binary)\n",
    "\n",
    "best_score, best_c, best_pen = {'f1':0}, 0, 0\n",
    "\n",
    "c_vals = np.logspace(-3,3,7)\n",
    "pen_vals = [\"l1\",\"l2\"]\n",
    "\n",
    "for c in pb(c_vals):\n",
    "    for pen in pen_vals:\n",
    "        result = lazy.calc_logreg_metrics(c_val=c, penalty=pen)\n",
    "        if result.get('f1') > best_score.get('f1'):\n",
    "            best_score = result\n",
    "            best_c = c\n",
    "            best_pen = pen\n",
    "            \n",
    "print('Best C:', best_c)\n",
    "print('Best penalty:', best_pen)\n",
    "best_score"
   ]
  },
  {
   "cell_type": "markdown",
   "metadata": {},
   "source": [
    "# Random forest"
   ]
  },
  {
   "cell_type": "code",
   "execution_count": 1087,
   "metadata": {},
   "outputs": [
    {
     "name": "stderr",
     "output_type": "stream",
     "text": [
      "100% (10 of 10) |########################| Elapsed Time: 0:01:02 Time:  0:01:02\n"
     ]
    },
    {
     "name": "stdout",
     "output_type": "stream",
     "text": [
      "Best n_estimators: 40\n",
      "Best max_depth: 10\n",
      "Best min_samples_leaf: 3\n"
     ]
    },
    {
     "data": {
      "text/plain": [
       "{'roc_auc': 0.9006410256410255,\n",
       " 'accuracy': 0.9,\n",
       " 'precision': 0.92,\n",
       " 'recall': 0.8846153846153846,\n",
       " 'f1': 0.9019607843137256}"
      ]
     },
     "execution_count": 1087,
     "metadata": {},
     "output_type": "execute_result"
    }
   ],
   "source": [
    "lazy = LazyLearner(df, numerical, binary)\n",
    "\n",
    "estim_val = np.arange(10, 110, 10)\n",
    "depth_val = np.arange(5, 30, 5)\n",
    "leaf_val = np.arange(1, 6, 1)\n",
    "\n",
    "best_score, best_estim, best_depth, best_leaf = {'f1':0}, 0, 0, 0\n",
    "\n",
    "for estim in pb(estim_val):\n",
    "    for depth in depth_val:\n",
    "        for leaf in leaf_val:\n",
    "            result = lazy.calc_forest_metrics(estim=estim, depth=depth, leaf=leaf)\n",
    "            if result.get('f1') > best_score.get('f1'):\n",
    "                best_score = result\n",
    "                best_estim = estim\n",
    "                best_depth = depth\n",
    "                best_leaf = leaf\n",
    "                \n",
    "print('Best n_estimators:', best_estim)\n",
    "print('Best max_depth:', best_depth)\n",
    "print('Best min_samples_leaf:', best_leaf)\n",
    "best_score"
   ]
  },
  {
   "cell_type": "markdown",
   "metadata": {},
   "source": [
    "# Mean\n",
    "## Simple pivots"
   ]
  },
  {
   "cell_type": "code",
   "execution_count": 1074,
   "metadata": {
    "scrolled": true
   },
   "outputs": [
    {
     "name": "stderr",
     "output_type": "stream",
     "text": [
      "100% (200 of 200) |######################| Elapsed Time: 0:00:12 Time:  0:00:12\n"
     ]
    },
    {
     "data": {
      "text/plain": [
       "{'roc_auc': 0.921875,\n",
       " 'accuracy': 0.925,\n",
       " 'precision': 0.8739495798319328,\n",
       " 'recall': 1.0,\n",
       " 'f1': 0.9327354260089686}"
      ]
     },
     "execution_count": 1074,
     "metadata": {},
     "output_type": "execute_result"
    }
   ],
   "source": [
    "lazy = LazyLearner(df, numerical, binary)\n",
    "result_base = lazy.calc_lazy_metrics()\n",
    "result_base"
   ]
  },
  {
   "cell_type": "markdown",
   "metadata": {},
   "source": [
    "## Custom pivots"
   ]
  },
  {
   "cell_type": "code",
   "execution_count": 1075,
   "metadata": {},
   "outputs": [
    {
     "name": "stderr",
     "output_type": "stream",
     "text": [
      "100% (200 of 200) |######################| Elapsed Time: 0:00:12 Time:  0:00:12\n"
     ]
    },
    {
     "data": {
      "text/plain": [
       "{'roc_auc': 0.9427083333333333,\n",
       " 'accuracy': 0.945,\n",
       " 'precision': 0.9043478260869565,\n",
       " 'recall': 1.0,\n",
       " 'f1': 0.9497716894977168}"
      ]
     },
     "execution_count": 1075,
     "metadata": {},
     "output_type": "execute_result"
    }
   ],
   "source": [
    "lazy = LazyLearner(df, numerical, binary, pivots)\n",
    "result_pro = lazy.calc_lazy_metrics()\n",
    "result_pro"
   ]
  },
  {
   "cell_type": "markdown",
   "metadata": {},
   "source": [
    "# Median\n",
    "## Simple pivots"
   ]
  },
  {
   "cell_type": "code",
   "execution_count": 21,
   "metadata": {},
   "outputs": [
    {
     "name": "stderr",
     "output_type": "stream",
     "text": [
      "100% (200 of 200) |######################| Elapsed Time: 0:00:12 Time:  0:00:12\n"
     ]
    },
    {
     "data": {
      "text/plain": [
       "{'roc_auc': 0.9600000000000001,\n",
       " 'accuracy': 0.96,\n",
       " 'precision': 0.9259259259259259,\n",
       " 'recall': 1.0,\n",
       " 'f1': 0.9615384615384615}"
      ]
     },
     "execution_count": 21,
     "metadata": {},
     "output_type": "execute_result"
    }
   ],
   "source": [
    "lazy = LazyLearner(df, numerical, binary)\n",
    "result_median = lazy.calc_lazy_metrics('median')\n",
    "result_median"
   ]
  },
  {
   "cell_type": "markdown",
   "metadata": {},
   "source": [
    "## Custom pivots"
   ]
  },
  {
   "cell_type": "code",
   "execution_count": 20,
   "metadata": {},
   "outputs": [
    {
     "name": "stderr",
     "output_type": "stream",
     "text": [
      "100% (200 of 200) |######################| Elapsed Time: 0:00:12 Time:  0:00:12\n"
     ]
    },
    {
     "data": {
      "text/plain": [
       "{'roc_auc': 0.9550000000000001,\n",
       " 'accuracy': 0.955,\n",
       " 'precision': 0.9174311926605505,\n",
       " 'recall': 1.0,\n",
       " 'f1': 0.9569377990430622}"
      ]
     },
     "execution_count": 20,
     "metadata": {},
     "output_type": "execute_result"
    }
   ],
   "source": [
    "lazy = LazyLearner(df, numerical, binary, pivots)\n",
    "result_median = lazy.calc_lazy_metrics('median')\n",
    "result_median"
   ]
  },
  {
   "cell_type": "markdown",
   "metadata": {},
   "source": [
    "# Max\n",
    "## Simple pivots"
   ]
  },
  {
   "cell_type": "code",
   "execution_count": 31,
   "metadata": {},
   "outputs": [
    {
     "name": "stderr",
     "output_type": "stream",
     "text": [
      "100% (200 of 200) |######################| Elapsed Time: 0:00:12 Time:  0:00:12\n"
     ]
    },
    {
     "data": {
      "text/plain": [
       "{'roc_auc': 0.9090909090909091,\n",
       " 'accuracy': 0.91,\n",
       " 'precision': 0.8487394957983193,\n",
       " 'recall': 1.0,\n",
       " 'f1': 0.9181818181818181}"
      ]
     },
     "execution_count": 31,
     "metadata": {},
     "output_type": "execute_result"
    }
   ],
   "source": [
    "lazy = LazyLearner(df, numerical, binary)\n",
    "result_max = lazy.calc_lazy_metrics('max')\n",
    "result_max"
   ]
  },
  {
   "cell_type": "markdown",
   "metadata": {},
   "source": [
    "## Custom pivots"
   ]
  },
  {
   "cell_type": "code",
   "execution_count": 28,
   "metadata": {},
   "outputs": [
    {
     "name": "stderr",
     "output_type": "stream",
     "text": [
      "100% (200 of 200) |######################| Elapsed Time: 0:00:12 Time:  0:00:12\n"
     ]
    },
    {
     "data": {
      "text/plain": [
       "{'roc_auc': 0.904040404040404,\n",
       " 'accuracy': 0.905,\n",
       " 'precision': 0.8416666666666667,\n",
       " 'recall': 1.0,\n",
       " 'f1': 0.9140271493212669}"
      ]
     },
     "execution_count": 28,
     "metadata": {},
     "output_type": "execute_result"
    }
   ],
   "source": [
    "lazy = LazyLearner(df, numerical, binary, pivots)\n",
    "result_max = lazy.calc_lazy_metrics('max')\n",
    "result_max"
   ]
  },
  {
   "cell_type": "markdown",
   "metadata": {},
   "source": [
    "# Threshold = 0.5\n",
    "## Simple pivots mean "
   ]
  },
  {
   "cell_type": "code",
   "execution_count": 1088,
   "metadata": {},
   "outputs": [
    {
     "name": "stderr",
     "output_type": "stream",
     "text": [
      "100% (200 of 200) |######################| Elapsed Time: 0:00:12 Time:  0:00:12\n",
      "/Users/user/anaconda3/lib/python3.6/site-packages/numpy/core/fromnumeric.py:2957: RuntimeWarning: Mean of empty slice.\n",
      "  out=out, **kwargs)\n",
      "/Users/user/anaconda3/lib/python3.6/site-packages/numpy/core/_methods.py:80: RuntimeWarning: invalid value encountered in double_scalars\n",
      "  ret = ret.dtype.type(ret / rcount)\n"
     ]
    },
    {
     "data": {
      "text/plain": [
       "{'roc_auc': 0.7732371794871795,\n",
       " 'accuracy': 0.78,\n",
       " 'precision': 0.7205882352941176,\n",
       " 'recall': 0.9423076923076923,\n",
       " 'f1': 0.8166666666666668}"
      ]
     },
     "execution_count": 1088,
     "metadata": {},
     "output_type": "execute_result"
    }
   ],
   "source": [
    "lazy = LazyLearner(df, numerical, binary, threshold=0.5)\n",
    "result_tr_05 = lazy.calc_lazy_metrics()\n",
    "result_tr_05"
   ]
  },
  {
   "cell_type": "markdown",
   "metadata": {},
   "source": [
    "## Custom pivots mean"
   ]
  },
  {
   "cell_type": "code",
   "execution_count": 1089,
   "metadata": {},
   "outputs": [
    {
     "name": "stderr",
     "output_type": "stream",
     "text": [
      "100% (200 of 200) |######################| Elapsed Time: 0:00:12 Time:  0:00:12\n",
      "/Users/user/anaconda3/lib/python3.6/site-packages/numpy/core/fromnumeric.py:2957: RuntimeWarning: Mean of empty slice.\n",
      "  out=out, **kwargs)\n",
      "/Users/user/anaconda3/lib/python3.6/site-packages/numpy/core/_methods.py:80: RuntimeWarning: invalid value encountered in double_scalars\n",
      "  ret = ret.dtype.type(ret / rcount)\n"
     ]
    },
    {
     "data": {
      "text/plain": [
       "{'roc_auc': 0.7736378205128205,\n",
       " 'accuracy': 0.78,\n",
       " 'precision': 0.7238805970149254,\n",
       " 'recall': 0.9326923076923077,\n",
       " 'f1': 0.8151260504201682}"
      ]
     },
     "execution_count": 1089,
     "metadata": {},
     "output_type": "execute_result"
    }
   ],
   "source": [
    "lazy = LazyLearner(df, numerical, binary, pivots, threshold=0.5)\n",
    "result_tr_05 = lazy.calc_lazy_metrics()\n",
    "result_tr_05"
   ]
  },
  {
   "cell_type": "markdown",
   "metadata": {},
   "source": [
    "## Simple pivots median"
   ]
  },
  {
   "cell_type": "code",
   "execution_count": 32,
   "metadata": {},
   "outputs": [
    {
     "name": "stderr",
     "output_type": "stream",
     "text": [
      "100% (200 of 200) |######################| Elapsed Time: 0:00:12 Time:  0:00:12\n",
      "/Users/user/anaconda3/lib/python3.6/site-packages/numpy/core/fromnumeric.py:2957: RuntimeWarning: Mean of empty slice.\n",
      "  out=out, **kwargs)\n",
      "/Users/user/anaconda3/lib/python3.6/site-packages/numpy/core/_methods.py:80: RuntimeWarning: invalid value encountered in double_scalars\n",
      "  ret = ret.dtype.type(ret / rcount)\n"
     ]
    },
    {
     "data": {
      "text/plain": [
       "{'roc_auc': 0.55,\n",
       " 'accuracy': 0.55,\n",
       " 'precision': 0.5543478260869565,\n",
       " 'recall': 0.51,\n",
       " 'f1': 0.5312500000000001}"
      ]
     },
     "execution_count": 32,
     "metadata": {},
     "output_type": "execute_result"
    }
   ],
   "source": [
    "lazy = LazyLearner(df, numerical, binary, threshold=0.5)\n",
    "result_tr_05 = lazy.calc_lazy_metrics('median')\n",
    "result_tr_05"
   ]
  },
  {
   "cell_type": "markdown",
   "metadata": {},
   "source": [
    "## Custom pivots median"
   ]
  },
  {
   "cell_type": "code",
   "execution_count": 33,
   "metadata": {},
   "outputs": [
    {
     "name": "stderr",
     "output_type": "stream",
     "text": [
      "100% (200 of 200) |######################| Elapsed Time: 0:00:12 Time:  0:00:12\n",
      "/Users/user/anaconda3/lib/python3.6/site-packages/numpy/core/fromnumeric.py:2957: RuntimeWarning: Mean of empty slice.\n",
      "  out=out, **kwargs)\n",
      "/Users/user/anaconda3/lib/python3.6/site-packages/numpy/core/_methods.py:80: RuntimeWarning: invalid value encountered in double_scalars\n",
      "  ret = ret.dtype.type(ret / rcount)\n"
     ]
    },
    {
     "data": {
      "text/plain": [
       "{'roc_auc': 0.585,\n",
       " 'accuracy': 0.585,\n",
       " 'precision': 0.5876288659793815,\n",
       " 'recall': 0.57,\n",
       " 'f1': 0.5786802030456853}"
      ]
     },
     "execution_count": 33,
     "metadata": {},
     "output_type": "execute_result"
    }
   ],
   "source": [
    "lazy = LazyLearner(df, numerical, binary, pivots, threshold=0.5)\n",
    "result_tr_05 = lazy.calc_lazy_metrics('median')\n",
    "result_tr_05"
   ]
  },
  {
   "cell_type": "markdown",
   "metadata": {},
   "source": [
    "# Threshold = 0.3\n",
    "## Simple pivots mean"
   ]
  },
  {
   "cell_type": "code",
   "execution_count": 1090,
   "metadata": {},
   "outputs": [
    {
     "name": "stderr",
     "output_type": "stream",
     "text": [
      "100% (200 of 200) |######################| Elapsed Time: 0:00:12 Time:  0:00:12\n",
      "/Users/user/anaconda3/lib/python3.6/site-packages/numpy/core/fromnumeric.py:2957: RuntimeWarning: Mean of empty slice.\n",
      "  out=out, **kwargs)\n",
      "/Users/user/anaconda3/lib/python3.6/site-packages/numpy/core/_methods.py:80: RuntimeWarning: invalid value encountered in double_scalars\n",
      "  ret = ret.dtype.type(ret / rcount)\n"
     ]
    },
    {
     "data": {
      "text/plain": [
       "{'roc_auc': 0.7247596153846154,\n",
       " 'accuracy': 0.725,\n",
       " 'precision': 0.7378640776699029,\n",
       " 'recall': 0.7307692307692307,\n",
       " 'f1': 0.7342995169082126}"
      ]
     },
     "execution_count": 1090,
     "metadata": {},
     "output_type": "execute_result"
    }
   ],
   "source": [
    "lazy = LazyLearner(df, numerical, binary, threshold=0.3)\n",
    "result_tr_03 = lazy.calc_lazy_metrics()\n",
    "result_tr_03"
   ]
  },
  {
   "cell_type": "markdown",
   "metadata": {},
   "source": [
    "## Custom pivots mean"
   ]
  },
  {
   "cell_type": "code",
   "execution_count": 1102,
   "metadata": {
    "scrolled": true
   },
   "outputs": [
    {
     "name": "stderr",
     "output_type": "stream",
     "text": [
      "100% (200 of 200) |######################| Elapsed Time: 0:00:13 Time:  0:00:13\n",
      "/Users/user/anaconda3/lib/python3.6/site-packages/numpy/core/fromnumeric.py:2957: RuntimeWarning: Mean of empty slice.\n",
      "  out=out, **kwargs)\n",
      "/Users/user/anaconda3/lib/python3.6/site-packages/numpy/core/_methods.py:80: RuntimeWarning: invalid value encountered in double_scalars\n",
      "  ret = ret.dtype.type(ret / rcount)\n"
     ]
    },
    {
     "data": {
      "text/plain": [
       "{'roc_auc': 0.6858974358974358,\n",
       " 'accuracy': 0.685,\n",
       " 'precision': 0.711340206185567,\n",
       " 'recall': 0.6634615384615384,\n",
       " 'f1': 0.6865671641791045}"
      ]
     },
     "execution_count": 1102,
     "metadata": {},
     "output_type": "execute_result"
    }
   ],
   "source": [
    "lazy = LazyLearner(df, numerical, binary, pivots, threshold=0.3)\n",
    "result_tr_03 = lazy.calc_lazy_metrics()\n",
    "result_tr_03"
   ]
  },
  {
   "cell_type": "markdown",
   "metadata": {},
   "source": [
    "## Simple pivots median"
   ]
  },
  {
   "cell_type": "code",
   "execution_count": 34,
   "metadata": {},
   "outputs": [
    {
     "name": "stderr",
     "output_type": "stream",
     "text": [
      "100% (200 of 200) |######################| Elapsed Time: 0:00:12 Time:  0:00:12\n",
      "/Users/user/anaconda3/lib/python3.6/site-packages/numpy/core/fromnumeric.py:2957: RuntimeWarning: Mean of empty slice.\n",
      "  out=out, **kwargs)\n",
      "/Users/user/anaconda3/lib/python3.6/site-packages/numpy/core/_methods.py:80: RuntimeWarning: invalid value encountered in double_scalars\n",
      "  ret = ret.dtype.type(ret / rcount)\n"
     ]
    },
    {
     "data": {
      "text/plain": [
       "{'roc_auc': 0.52,\n",
       " 'accuracy': 0.52,\n",
       " 'precision': 0.5163934426229508,\n",
       " 'recall': 0.63,\n",
       " 'f1': 0.5675675675675675}"
      ]
     },
     "execution_count": 34,
     "metadata": {},
     "output_type": "execute_result"
    }
   ],
   "source": [
    "lazy = LazyLearner(df, numerical, binary, threshold=0.3)\n",
    "result_tr_03 = lazy.calc_lazy_metrics('median')\n",
    "result_tr_03"
   ]
  },
  {
   "cell_type": "markdown",
   "metadata": {},
   "source": [
    "## Custom pivots median"
   ]
  },
  {
   "cell_type": "code",
   "execution_count": 35,
   "metadata": {},
   "outputs": [
    {
     "name": "stderr",
     "output_type": "stream",
     "text": [
      "100% (200 of 200) |######################| Elapsed Time: 0:00:12 Time:  0:00:12\n",
      "/Users/user/anaconda3/lib/python3.6/site-packages/numpy/core/fromnumeric.py:2957: RuntimeWarning: Mean of empty slice.\n",
      "  out=out, **kwargs)\n",
      "/Users/user/anaconda3/lib/python3.6/site-packages/numpy/core/_methods.py:80: RuntimeWarning: invalid value encountered in double_scalars\n",
      "  ret = ret.dtype.type(ret / rcount)\n"
     ]
    },
    {
     "data": {
      "text/plain": [
       "{'roc_auc': 0.505,\n",
       " 'accuracy': 0.505,\n",
       " 'precision': 0.504,\n",
       " 'recall': 0.63,\n",
       " 'f1': 0.56}"
      ]
     },
     "execution_count": 35,
     "metadata": {},
     "output_type": "execute_result"
    }
   ],
   "source": [
    "lazy = LazyLearner(df, numerical, binary, pivots, threshold=0.3)\n",
    "result_tr_03 = lazy.calc_lazy_metrics('median')\n",
    "result_tr_03"
   ]
  },
  {
   "cell_type": "markdown",
   "metadata": {},
   "source": [
    "# Weighted mean\n",
    "## Simple pivots"
   ]
  },
  {
   "cell_type": "code",
   "execution_count": 1147,
   "metadata": {},
   "outputs": [
    {
     "name": "stderr",
     "output_type": "stream",
     "text": [
      "100% (200 of 200) |######################| Elapsed Time: 0:00:12 Time:  0:00:12\n",
      "100% (800 of 800) |######################| Elapsed Time: 0:00:49 Time:  0:00:49\n"
     ]
    },
    {
     "data": {
      "text/plain": [
       "{'roc_auc': 0.9947916666666667,\n",
       " 'accuracy': 0.995,\n",
       " 'precision': 0.9904761904761905,\n",
       " 'recall': 1.0,\n",
       " 'f1': 0.9952153110047847}"
      ]
     },
     "execution_count": 1147,
     "metadata": {},
     "output_type": "execute_result"
    }
   ],
   "source": [
    "import LazyLearning\n",
    "from importlib import reload\n",
    "reload(LazyLearning)\n",
    "from LazyLearning import LazyLearner\n",
    "\n",
    "lazy = LazyLearner(df, numerical, binary)\n",
    "result_weighted = lazy.calc_lazy_metrics('weighted_mean')\n",
    "result_weighted"
   ]
  },
  {
   "cell_type": "markdown",
   "metadata": {},
   "source": [
    "## Custom pivots"
   ]
  },
  {
   "cell_type": "code",
   "execution_count": 1148,
   "metadata": {},
   "outputs": [
    {
     "name": "stderr",
     "output_type": "stream",
     "text": [
      "100% (200 of 200) |######################| Elapsed Time: 0:00:12 Time:  0:00:12\n",
      "100% (800 of 800) |######################| Elapsed Time: 0:00:51 Time:  0:00:51\n"
     ]
    },
    {
     "data": {
      "text/plain": [
       "{'roc_auc': 0.9947916666666667,\n",
       " 'accuracy': 0.995,\n",
       " 'precision': 0.9904761904761905,\n",
       " 'recall': 1.0,\n",
       " 'f1': 0.9952153110047847}"
      ]
     },
     "execution_count": 1148,
     "metadata": {},
     "output_type": "execute_result"
    }
   ],
   "source": [
    "import LazyLearning\n",
    "from importlib import reload\n",
    "reload(LazyLearning)\n",
    "from LazyLearning import LazyLearner\n",
    "\n",
    "lazy = LazyLearner(df, numerical, binary, pivots)\n",
    "result_weighted = lazy.calc_lazy_metrics('weighted_mean')\n",
    "result_weighted"
   ]
  },
  {
   "cell_type": "markdown",
   "metadata": {},
   "source": [
    "# ------"
   ]
  }
 ],
 "metadata": {
  "kernelspec": {
   "display_name": "Python 3",
   "language": "python",
   "name": "python3"
  },
  "language_info": {
   "codemirror_mode": {
    "name": "ipython",
    "version": 3
   },
   "file_extension": ".py",
   "mimetype": "text/x-python",
   "name": "python",
   "nbconvert_exporter": "python",
   "pygments_lexer": "ipython3",
   "version": "3.6.5"
  }
 },
 "nbformat": 4,
 "nbformat_minor": 2
}
